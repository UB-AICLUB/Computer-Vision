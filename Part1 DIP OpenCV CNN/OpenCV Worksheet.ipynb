{
 "cells": [
  {
   "cell_type": "markdown",
   "id": "69780864",
   "metadata": {},
   "source": [
    "We will now work on some images to manipulate them in different ways. Feel free to change differetn parameter values of the function and see how it changed the output image.\n",
    "\n",
    "If you didn't find any image just download the input image from here: https://docs.opencv.org/4.x/lena.png "
   ]
  },
  {
   "cell_type": "code",
   "execution_count": 1,
   "id": "d99d17c8",
   "metadata": {},
   "outputs": [],
   "source": [
    "## Importing necessary libraries\n",
    "\n",
    "import cv2 as cv\n",
    "import numpy as np\n",
    "import matplotlib.pyplot as plt"
   ]
  },
  {
   "cell_type": "markdown",
   "id": "a8728aba",
   "metadata": {},
   "source": [
    "## Reading, writing and displaying Image"
   ]
  },
  {
   "cell_type": "code",
   "execution_count": null,
   "id": "d9821165",
   "metadata": {},
   "outputs": [],
   "source": [
    "## basic operation for reading an image in opencv\n",
    "\n",
    "image = cv.imread(\"lena.png\")"
   ]
  },
  {
   "cell_type": "code",
   "execution_count": null,
   "id": "cc8df2cd",
   "metadata": {},
   "outputs": [],
   "source": [
    "## operation to display the loaded image in a window\n",
    "cv.imshow(\"Original Image\", image)\n",
    "\n",
    "## waitkey function is used to display a window for given milliseconds or until any key is pressed\n",
    "cv.waitKey(0)"
   ]
  },
  {
   "cell_type": "code",
   "execution_count": null,
   "id": "57b238a8",
   "metadata": {},
   "outputs": [],
   "source": [
    "## basic operation for writing an image to disk\n",
    "cv.imwrite('Image.jpg', image)"
   ]
  },
  {
   "cell_type": "markdown",
   "id": "6c181a41",
   "metadata": {},
   "source": [
    "## Color to gray scale"
   ]
  },
  {
   "cell_type": "code",
   "execution_count": null,
   "id": "9143f256",
   "metadata": {},
   "outputs": [],
   "source": [
    "## get the dimensions of the image\n",
    "\n",
    "height, width, channels = image.shape\n",
    "height, width, channels"
   ]
  },
  {
   "cell_type": "code",
   "execution_count": null,
   "id": "cfc471da",
   "metadata": {},
   "outputs": [],
   "source": [
    "## the blue, green, red color (rgb reverse) values are given at each pixel value\n",
    "\n",
    "image[0][0]"
   ]
  },
  {
   "cell_type": "code",
   "execution_count": null,
   "id": "ebe6e91f",
   "metadata": {},
   "outputs": [],
   "source": [
    "## Initialize an empty image with all zeroes or whatever value you like\n",
    "\n",
    "gray_image = np.zeros((height, width), dtype=np.uint8)\n",
    "# gray_image = np.full((height, width), 255, dtype=np.uint8)\n",
    "\n",
    "cv.imshow(\"Empty Image\", gray_image)\n",
    "cv.waitKey(0)"
   ]
  },
  {
   "cell_type": "markdown",
   "id": "805fc128",
   "metadata": {},
   "source": [
    "#### Convert to gray by averaging"
   ]
  },
  {
   "cell_type": "code",
   "execution_count": null,
   "id": "a7666f5c",
   "metadata": {},
   "outputs": [],
   "source": [
    "for i in range(height):\n",
    "    for j in range(width):\n",
    "        # get rgb values from the image\n",
    "        b, g, r = image[i,j]\n",
    "        # calculate weighted RGB to grayscale conversion                                  \n",
    "        gray_image[i,j] = int((r+g+b)/3)\n",
    "\n",
    "cv.imshow(\"Gray Image\", gray_image)\n",
    "cv.waitKey(0)"
   ]
  },
  {
   "cell_type": "markdown",
   "id": "5aca2e1b",
   "metadata": {},
   "source": [
    "#### Convert to gray using standard form"
   ]
  },
  {
   "cell_type": "code",
   "execution_count": null,
   "id": "9c3b8fad",
   "metadata": {},
   "outputs": [],
   "source": [
    "for i in range(height):\n",
    "    for j in range(width):\n",
    "        # get rgb values from the image\n",
    "        b, g, r = image[i,j]\n",
    "        # calculate weighted RGB to grayscale conversion                                  \n",
    "        gray_image[i,j] = int(0.299*r + 0.587*g + 0.114*b)\n",
    "\n",
    "cv.imshow(\"Gray Image\", gray_image)\n",
    "cv.waitKey(0)"
   ]
  },
  {
   "cell_type": "markdown",
   "id": "3e01f552",
   "metadata": {},
   "source": [
    "#### Convert using opncv"
   ]
  },
  {
   "cell_type": "code",
   "execution_count": null,
   "id": "2540c145",
   "metadata": {},
   "outputs": [],
   "source": [
    "gray_image = cv.cvtColor(image, cv.COLOR_RGB2GRAY)\n",
    "cv.imshow(\"Gray Image\", gray_image)\n",
    "cv.waitKey(0)"
   ]
  },
  {
   "cell_type": "markdown",
   "id": "35988588",
   "metadata": {},
   "source": [
    "## Geometric transformations"
   ]
  },
  {
   "cell_type": "markdown",
   "id": "73699df5",
   "metadata": {},
   "source": [
    "#### Scaling the gray-scale image to half"
   ]
  },
  {
   "cell_type": "code",
   "execution_count": null,
   "id": "e6e42fec",
   "metadata": {},
   "outputs": [],
   "source": [
    "# initialise image with half the dimensions\n",
    "gray_image_scaled = np.zeros((int(height/2),int(width/2)), dtype=np.uint8)\n",
    "\n",
    "for i in range(int(height/2)):\n",
    "    for j in range(int(width/2)):\n",
    "        # assign pixels in multiple of 2 i.e. skipping 1 pixel\n",
    "        gray_image_scaled[i,j] = gray_image[i*2,j*2]\n",
    "\n",
    "cv.imshow('Scaled Grayscale', gray_image_scaled)\n",
    "cv.waitKey(0)"
   ]
  },
  {
   "attachments": {
    "image-2.png": {
     "image/png": "[encoded data removed]"
    }
   },
   "cell_type": "markdown",
   "id": "512945b2",
   "metadata": {},
   "source": [
    "![image-2.png](attachment:image-2.png)"
   ]
  },
  {
   "cell_type": "code",
   "execution_count": null,
   "id": "bd730ed5",
   "metadata": {},
   "outputs": [],
   "source": [
    "image_scaled = cv.resize(gray_image, None, fx=0.75, fy=0.75)\n",
    "# image_scaled = cv.resize(gray_image, (200,200), interpolation = cv2.INTER_AREA)   ## interpolation\n",
    "\n",
    "cv.imshow('Scaled Image', image_scaled)\n",
    "cv.waitKey(0)"
   ]
  },
  {
   "cell_type": "markdown",
   "id": "ab9bd77c",
   "metadata": {},
   "source": [
    "#### Translating the gray-scale image by 50 pixel"
   ]
  },
  {
   "cell_type": "code",
   "execution_count": null,
   "id": "1cfdaf3f",
   "metadata": {},
   "outputs": [],
   "source": [
    "# initialize image with 50 more pixels in h and w\n",
    "gray_image_trans = np.zeros((height+50, width+50), dtype=np.uint8)\n",
    "\n",
    "# assign pixel values which are shifted by 50 pixel in each direction\n",
    "gray_image_trans[50:height+50, 50:width+50] = gray_image[0:height, 0:width]\n",
    "\n",
    "cv.imshow('Grayscale Translated', gray_image_trans)\n",
    "cv.waitKey(0)"
   ]
  },
  {
   "attachments": {
    "image.png": {
     "image/png": "[encoded data removed]"
    }
   },
   "cell_type": "markdown",
   "id": "a24b46c0",
   "metadata": {},
   "source": [
    "![image.png](attachment:image.png)\n",
    "\n",
    "Translation Matrix"
   ]
  },
  {
   "cell_type": "code",
   "execution_count": null,
   "id": "fd0f5945",
   "metadata": {},
   "outputs": [],
   "source": [
    "M = np.float32([[1,0,100],\n",
    "                [0,1,50]])\n",
    "gray_image_trans = cv.warpAffine(gray_image, M, (width, height))\n",
    "\n",
    "cv.imshow('Grayscale Translated', gray_image_trans)\n",
    "cv.waitKey(0)"
   ]
  },
  {
   "cell_type": "markdown",
   "id": "7c259055",
   "metadata": {},
   "source": [
    "#### Flipping vertically and horizontally"
   ]
  },
  {
   "cell_type": "code",
   "execution_count": null,
   "id": "25688fa3",
   "metadata": {},
   "outputs": [],
   "source": [
    "vertical_flip = cv.flip(gray_image, 0)\n",
    "cv.imshow('Grayscale Vertical Flip', vertical_flip)\n",
    "cv.waitKey(0)"
   ]
  },
  {
   "cell_type": "code",
   "execution_count": null,
   "id": "aa00b33e",
   "metadata": {},
   "outputs": [],
   "source": [
    "horizontal_flip = cv.flip(gray_image, 1)\n",
    "cv.imshow('Grayscale Horizontal Flip', horizontal_flip)\n",
    "cv.waitKey(0)"
   ]
  },
  {
   "cell_type": "markdown",
   "id": "437aeed4",
   "metadata": {},
   "source": [
    "#### Rotation"
   ]
  },
  {
   "attachments": {
    "image-2.png": {
     "image/png": "[encoded data removed]"
    },
    "image-3.png": {
     "image/png": "[encoded data removed]"
    },
    "image.png": {
     "image/png": "[encoded data removed]"
    }
   },
   "cell_type": "markdown",
   "id": "266f3f6b",
   "metadata": {},
   "source": [
    "![image.png](attachment:image.png)\n",
    "Scaled rotation with adjustable center of rotation\n",
    "![image-2.png](attachment:image-2.png)\n",
    "Where\n",
    "![image-3.png](attachment:image-3.png)"
   ]
  },
  {
   "cell_type": "code",
   "execution_count": null,
   "id": "5838d072",
   "metadata": {},
   "outputs": [],
   "source": [
    "# cols-1 and rows-1 are the coordinate limits. parameters: center, angle, scale\n",
    "M = cv.getRotationMatrix2D(((width-1)/2.0,(height-1)/2.0), 90, 1)"
   ]
  },
  {
   "cell_type": "code",
   "execution_count": null,
   "id": "200f636f",
   "metadata": {},
   "outputs": [],
   "source": [
    "rotated_img = cv.warpAffine(gray_image, M, (width,height))\n",
    "cv.imshow('Grayscale Rotated', rotated_img)\n",
    "cv.waitKey(0)"
   ]
  },
  {
   "cell_type": "markdown",
   "id": "cade598f",
   "metadata": {},
   "source": [
    "#### Perspective transform"
   ]
  },
  {
   "cell_type": "markdown",
   "id": "ac113358",
   "metadata": {},
   "source": [
    "use this image for better effects: https://i.stack.imgur.com/hsLhe.jpg"
   ]
  },
  {
   "cell_type": "code",
   "execution_count": null,
   "id": "d42083c4",
   "metadata": {},
   "outputs": [],
   "source": [
    "new_img = cv.imread(\"sudoku.jpg\")\n",
    "new_img = cv.cvtColor(new_img, cv.COLOR_RGB2GRAY)\n",
    "cv.imshow('new image', new_img)\n",
    "cv.waitKey(0)"
   ]
  },
  {
   "cell_type": "code",
   "execution_count": null,
   "id": "7affddbb",
   "metadata": {},
   "outputs": [],
   "source": [
    "## chossing edges of the sudoku table\n",
    "pts1 = np.float32([[54,61],[370, 50],[19,390],[395,395]])\n",
    "pts2 = np.float32([[0,0],[300,0],[0,300],[300,300]])"
   ]
  },
  {
   "cell_type": "code",
   "execution_count": null,
   "id": "55e382a3",
   "metadata": {},
   "outputs": [],
   "source": [
    "M = cv.getPerspectiveTransform(pts1, pts2)\n",
    "perspective_image = cv.warpPerspective(new_img, M, (300,300))"
   ]
  },
  {
   "cell_type": "code",
   "execution_count": null,
   "id": "01581bb9",
   "metadata": {},
   "outputs": [],
   "source": [
    "plt.subplot(121), plt.imshow(new_img, cmap=plt.cm.gray), plt.title('Input')\n",
    "plt.subplot(122), plt.imshow(perspective_image, cmap=plt.cm.gray), plt.title('Output')\n",
    "plt.show()"
   ]
  },
  {
   "cell_type": "markdown",
   "id": "4a95a6c5",
   "metadata": {},
   "source": [
    "## Thresholding"
   ]
  },
  {
   "cell_type": "markdown",
   "id": "c4138934",
   "metadata": {},
   "source": [
    "#### Binary and Binary Inverse Thresholding"
   ]
  },
  {
   "cell_type": "code",
   "execution_count": null,
   "id": "f56b965f",
   "metadata": {},
   "outputs": [],
   "source": [
    "_,thresh1 = cv.threshold(new_img,127,255,cv.THRESH_BINARY)\n",
    "_,thresh2 = cv.threshold(new_img,127,255,cv.THRESH_BINARY_INV)\n",
    "\n",
    "plt.subplot(121), plt.imshow(thresh1,cmap=plt.cm.gray)\n",
    "plt.subplot(122), plt.imshow(thresh2,cmap=plt.cm.gray)\n",
    "plt.show()"
   ]
  },
  {
   "cell_type": "markdown",
   "id": "e0bc08e7",
   "metadata": {},
   "source": [
    "#### Tozero and Tozero Inverse"
   ]
  },
  {
   "cell_type": "code",
   "execution_count": null,
   "id": "8ca28867",
   "metadata": {},
   "outputs": [],
   "source": [
    "_,thresh3 = cv.threshold(new_img,127,255,cv.THRESH_TOZERO)\n",
    "_,thresh4 = cv.threshold(new_img,127,255,cv.THRESH_TOZERO_INV)\n",
    "plt.subplot(121), plt.imshow(thresh3,cmap=plt.cm.gray)\n",
    "plt.subplot(122), plt.imshow(thresh4,cmap=plt.cm.gray)\n",
    "plt.show()"
   ]
  },
  {
   "cell_type": "markdown",
   "id": "d2cfef07",
   "metadata": {},
   "source": [
    "#### Adaptive Mean and Gaussian Thresholding"
   ]
  },
  {
   "cell_type": "code",
   "execution_count": null,
   "id": "c1e42428",
   "metadata": {},
   "outputs": [],
   "source": [
    "th1 = cv.adaptiveThreshold(new_img, 255, cv.ADAPTIVE_THRESH_MEAN_C, cv.THRESH_BINARY,15,20)\n",
    "th2 = cv.adaptiveThreshold(new_img, 255, cv.ADAPTIVE_THRESH_GAUSSIAN_C, cv.THRESH_BINARY,15,5)\n",
    "plt.subplot(121), plt.imshow(th1, cmap=plt.cm.gray)\n",
    "plt.subplot(122), plt.imshow(th2, cmap=plt.cm.gray)\n",
    "plt.show()"
   ]
  },
  {
   "cell_type": "markdown",
   "id": "586c0058",
   "metadata": {},
   "source": [
    "## Smoothing and Sharpening Images"
   ]
  },
  {
   "cell_type": "markdown",
   "id": "e014feb5",
   "metadata": {},
   "source": [
    "#### Smoothing"
   ]
  },
  {
   "cell_type": "code",
   "execution_count": null,
   "id": "cc08905b",
   "metadata": {},
   "outputs": [],
   "source": [
    "kernel = np.ones((5,5),np.float32)/25\n",
    "kernel"
   ]
  },
  {
   "cell_type": "code",
   "execution_count": null,
   "id": "584a8c36",
   "metadata": {},
   "outputs": [],
   "source": [
    "blur_img = cv.filter2D(new_img,-1,kernel)\n",
    "plt.subplot(121), plt.imshow(new_img, cmap=plt.cm.gray)\n",
    "plt.subplot(122), plt.imshow(blur_img, cmap=plt.cm.gray)\n",
    "plt.show()"
   ]
  },
  {
   "cell_type": "code",
   "execution_count": null,
   "id": "7ccb8d43",
   "metadata": {},
   "outputs": [],
   "source": [
    "blur = cv.blur(new_img,(5,5))\n",
    "plt.subplot(121), plt.imshow(new_img, cmap=plt.cm.gray)\n",
    "plt.subplot(122), plt.imshow(blur, cmap=plt.cm.gray)\n",
    "plt.show()"
   ]
  },
  {
   "cell_type": "markdown",
   "id": "18403d20",
   "metadata": {},
   "source": [
    "##### Gaussian Blur"
   ]
  },
  {
   "cell_type": "code",
   "execution_count": null,
   "id": "9fd81b1d",
   "metadata": {},
   "outputs": [],
   "source": [
    "blur = cv.GaussianBlur(new_img,(7,7),0)\n",
    "plt.subplot(121), plt.imshow(new_img, cmap=plt.cm.gray)\n",
    "plt.subplot(122), plt.imshow(blur, cmap=plt.cm.gray)\n",
    "plt.show()"
   ]
  },
  {
   "cell_type": "markdown",
   "id": "6ec6becb",
   "metadata": {},
   "source": [
    "##### Median blur"
   ]
  },
  {
   "cell_type": "code",
   "execution_count": null,
   "id": "53a5e887",
   "metadata": {},
   "outputs": [],
   "source": [
    "median = cv.medianBlur(th2,3)  ## useful for salt and pepper noise\n",
    "plt.subplot(121), plt.imshow(th2, cmap=plt.cm.gray)\n",
    "plt.subplot(122), plt.imshow(median, cmap=plt.cm.gray)\n",
    "plt.show()"
   ]
  },
  {
   "cell_type": "markdown",
   "id": "fbbdd7f8",
   "metadata": {},
   "source": [
    "### Sharpening"
   ]
  },
  {
   "cell_type": "code",
   "execution_count": null,
   "id": "759d607d",
   "metadata": {},
   "outputs": [],
   "source": [
    "kernel = np.array([[-1,-1,-1], \n",
    "                    [-1,10,-1], \n",
    "                    [-1,-1,-1]])"
   ]
  },
  {
   "cell_type": "code",
   "execution_count": null,
   "id": "0584dfc5",
   "metadata": {},
   "outputs": [],
   "source": [
    "sharp_img = cv.filter2D(new_img,-1,kernel)\n",
    "plt.subplot(121), plt.imshow(new_img, cmap=plt.cm.gray)\n",
    "plt.subplot(122), plt.imshow(sharp_img, cmap=plt.cm.gray)\n",
    "plt.show()"
   ]
  },
  {
   "cell_type": "markdown",
   "id": "2f990a0f",
   "metadata": {},
   "source": [
    "## Erosion and Dialation"
   ]
  },
  {
   "cell_type": "markdown",
   "id": "c9bc45af",
   "metadata": {},
   "source": [
    "Use this image for better understanding: https://docs.opencv.org/4.7.0/j.png"
   ]
  },
  {
   "cell_type": "code",
   "execution_count": null,
   "id": "8639972c",
   "metadata": {},
   "outputs": [],
   "source": [
    "img = cv.imread(\"j.png\")"
   ]
  },
  {
   "cell_type": "code",
   "execution_count": null,
   "id": "d50a59cb",
   "metadata": {},
   "outputs": [],
   "source": [
    "kernel = np.ones((3,3),np.uint8)\n",
    "erosion = cv.erode(img, kernel,iterations = 1)\n",
    "plt.subplot(121), plt.imshow(img, cmap=plt.cm.gray)\n",
    "plt.subplot(122), plt.imshow(erosion, cmap=plt.cm.gray)\n",
    "plt.show()"
   ]
  },
  {
   "cell_type": "code",
   "execution_count": null,
   "id": "46633aa5",
   "metadata": {},
   "outputs": [],
   "source": [
    "kernel = np.ones((5,5),np.uint8)\n",
    "dilate = cv.dilate(img, kernel,iterations = 1)\n",
    "plt.subplot(121), plt.imshow(img, cmap=plt.cm.gray)\n",
    "plt.subplot(122), plt.imshow(dilate, cmap=plt.cm.gray)\n",
    "plt.show()"
   ]
  },
  {
   "cell_type": "code",
   "execution_count": null,
   "id": "97f63b5b",
   "metadata": {},
   "outputs": [],
   "source": [
    "## opening: erosion followed by dilation\n",
    "opening = cv.morphologyEx(th1, cv.MORPH_OPEN, kernel)\n",
    "plt.subplot(121), plt.imshow(th2, cmap=plt.cm.gray)\n",
    "plt.subplot(122), plt.imshow(opening, cmap=plt.cm.gray)\n",
    "plt.show()"
   ]
  },
  {
   "cell_type": "code",
   "execution_count": null,
   "id": "f3366ec2",
   "metadata": {},
   "outputs": [],
   "source": [
    "## closing: dialation follwed by erosion\n",
    "closing = cv.morphologyEx(th2, cv.MORPH_CLOSE, kernel)\n",
    "plt.subplot(121), plt.imshow(th2, cmap=plt.cm.gray)\n",
    "plt.subplot(122), plt.imshow(closing, cmap=plt.cm.gray)\n",
    "plt.show()"
   ]
  },
  {
   "cell_type": "code",
   "execution_count": null,
   "id": "97e53dca",
   "metadata": {},
   "outputs": [],
   "source": [
    "gradient = cv.morphologyEx(img, cv.MORPH_GRADIENT, kernel)\n",
    "plt.subplot(121), plt.imshow(img, cmap=plt.cm.gray)\n",
    "plt.subplot(122), plt.imshow(gradient, cmap=plt.cm.gray)\n",
    "plt.show()"
   ]
  },
  {
   "cell_type": "markdown",
   "id": "e9b1465d",
   "metadata": {},
   "source": [
    "## Edge Detection"
   ]
  },
  {
   "cell_type": "markdown",
   "id": "47e7498b",
   "metadata": {},
   "source": [
    "#### Laplacian and Sobel"
   ]
  },
  {
   "cell_type": "code",
   "execution_count": null,
   "id": "795f08de",
   "metadata": {},
   "outputs": [],
   "source": [
    "laplacian = cv.Laplacian(img, cv.CV_64F)\n",
    "sobelx = cv.Sobel(img, cv.CV_64F, 1, 0, ksize=5)\n",
    "sobely = cv.Sobel(img, cv.CV_64F, 0, 1, ksize=5)\n",
    "\n",
    "plt.subplot(221), plt.imshow(img, cmap=plt.cm.gray)\n",
    "plt.subplot(222), plt.imshow(laplacian, cmap=plt.cm.gray)\n",
    "plt.subplot(223), plt.imshow(sobelx, cmap=plt.cm.gray)\n",
    "plt.subplot(224), plt.imshow(sobely, cmap=plt.cm.gray)\n",
    "plt.show()"
   ]
  },
  {
   "cell_type": "markdown",
   "id": "4a4cf623",
   "metadata": {},
   "source": [
    "#### Canny Edge Detector"
   ]
  },
  {
   "cell_type": "code",
   "execution_count": null,
   "id": "644f7ec9",
   "metadata": {},
   "outputs": [],
   "source": [
    "edges = cv.Canny(img,100,200)\n",
    "plt.subplot(121), plt.imshow(img, cmap=plt.cm.gray)\n",
    "plt.subplot(122), plt.imshow(edges, cmap=plt.cm.gray)\n",
    "plt.show()"
   ]
  },
  {
   "cell_type": "markdown",
   "id": "1c0d61fc",
   "metadata": {},
   "source": [
    "## Contour"
   ]
  },
  {
   "cell_type": "code",
   "execution_count": null,
   "id": "e7ab91c2",
   "metadata": {
    "scrolled": false
   },
   "outputs": [],
   "source": [
    "plt.subplot(221), plt.imshow(img, cmap=plt.cm.gray)\n",
    "\n",
    "edges = cv.Canny(img,100,200)\n",
    "plt.subplot(222), plt.imshow(edges, cmap=plt.cm.gray)\n",
    "\n",
    "contours, hierarchy = cv.findContours(edges, cv.RETR_TREE, cv.CHAIN_APPROX_SIMPLE)\n",
    "print(\"Number of contours found: \", len(contours))\n",
    "cv.drawContours(img, contours, -1, (0,255,0), 3)\n",
    "\n",
    "plt.subplot(223), plt.imshow(img, cmap=plt.cm.gray)\n",
    "plt.show()"
   ]
  },
  {
   "cell_type": "markdown",
   "id": "33b604fb",
   "metadata": {},
   "source": [
    "## Hough Transform"
   ]
  },
  {
   "cell_type": "code",
   "execution_count": null,
   "id": "4e1459b6",
   "metadata": {},
   "outputs": [],
   "source": [
    "## indtify straight lines in the image in the form of ρ=xcosθ+ysinθ instead of y=mx+c\n",
    "img = cv.imread('sudoku.jpg')\n",
    "gray = cv.cvtColor(img, cv.COLOR_RGB2GRAY)\n",
    "edges = cv.Canny(gray,50,150,apertureSize = 3)\n",
    "lines = cv.HoughLines(edges,1,np.pi/180,200)\n",
    "for line in lines:\n",
    "    rho,theta = line[0]\n",
    "    a = np.cos(theta)\n",
    "    b = np.sin(theta)\n",
    "    x0 = a*rho\n",
    "    y0 = b*rho\n",
    "    x1 = int(x0 + 1000*(-b))\n",
    "    y1 = int(y0 + 1000*(a))\n",
    "    x2 = int(x0 - 1000*(-b))\n",
    "    y2 = int(y0 - 1000*(a))\n",
    "    cv.line(img,(x1,y1),(x2,y2),(0,0,255),2)\n",
    "plt.subplot(121), plt.imshow(edges, cmap=plt.cm.gray)\n",
    "plt.subplot(122), plt.imshow(img, cmap=plt.cm.gray)\n",
    "plt.show()"
   ]
  },
  {
   "cell_type": "markdown",
   "id": "067274cd",
   "metadata": {},
   "source": [
    "## References"
   ]
  },
  {
   "cell_type": "markdown",
   "id": "05bb7d10",
   "metadata": {},
   "source": [
    "1. https://docs.opencv.org/4.7.0/d2/d96/tutorial_py_table_of_contents_imgproc.html\n",
    "2. https://docs.opencv.org/4.7.0/da/d6e/tutorial_py_geometric_transformations.html\n",
    "3. https://docs.opencv.org/4.7.0/d7/d4d/tutorial_py_thresholding.html\n",
    "4. https://docs.opencv.org/4.7.0/d4/d13/tutorial_py_filtering.html\n",
    "5. https://docs.opencv.org/4.7.0/d9/d61/tutorial_py_morphological_ops.html\n",
    "6. https://docs.opencv.org/4.7.0/d5/d0f/tutorial_py_gradients.html\n",
    "7. https://docs.opencv.org/4.7.0/da/d22/tutorial_py_canny.html\n",
    "8. https://docs.opencv.org/4.7.0/d4/d73/tutorial_py_contours_begin.html\n",
    "9. https://docs.opencv.org/4.7.0/d6/d10/tutorial_py_houghlines.html\n"
   ]
  },
  {
   "cell_type": "code",
   "execution_count": null,
   "id": "6ef0f697",
   "metadata": {},
   "outputs": [],
   "source": []
  }
 ],
 "metadata": {
  "kernelspec": {
   "display_name": "cv",
   "language": "python",
   "name": "cv"
  },
  "language_info": {
   "codemirror_mode": {
    "name": "ipython",
    "version": 3
   },
   "file_extension": ".py",
   "mimetype": "text/x-python",
   "name": "python",
   "nbconvert_exporter": "python",
   "pygments_lexer": "ipython3",
   "version": "3.10.9"
  }
 },
 "nbformat": 4,
 "nbformat_minor": 5
}
